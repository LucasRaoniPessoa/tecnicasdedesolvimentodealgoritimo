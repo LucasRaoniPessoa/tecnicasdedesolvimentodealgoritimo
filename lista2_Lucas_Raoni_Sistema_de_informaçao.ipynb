{
  "nbformat": 4,
  "nbformat_minor": 0,
  "metadata": {
    "colab": {
      "provenance": [],
      "authorship_tag": "ABX9TyNKA5mH+M16h7QjOReFgaxd",
      "include_colab_link": true
    },
    "kernelspec": {
      "name": "python3",
      "display_name": "Python 3"
    },
    "language_info": {
      "name": "python"
    }
  },
  "cells": [
    {
      "cell_type": "markdown",
      "metadata": {
        "id": "view-in-github",
        "colab_type": "text"
      },
      "source": [
        "<a href=\"https://colab.research.google.com/github/LucasRaoniPessoa/tecnicasdedesolvimentodealgoritimo/blob/main/lista2_Lucas_Raoni_Sistema_de_informa%C3%A7ao.ipynb\" target=\"_parent\"><img src=\"https://colab.research.google.com/assets/colab-badge.svg\" alt=\"Open In Colab\"/></a>"
      ]
    },
    {
      "cell_type": "code",
      "execution_count": 2,
      "metadata": {
        "colab": {
          "base_uri": "https://localhost:8080/"
        },
        "id": "XaUM6I4Qv8na",
        "outputId": "ba1d3a43-f8be-4ec7-a005-cfbad64ffb86"
      },
      "outputs": [
        {
          "output_type": "stream",
          "name": "stdout",
          "text": [
            "digite um numero real: \n",
            "12\n",
            "o numero real digitado é maior que 10\n"
          ]
        }
      ],
      "source": [
        "'''\n",
        "Exercicio 01 Lista 2\n",
        "'''\n",
        "print(\"digite um numero real: \")\n",
        "numero_real = float(input())\n",
        "if numero_real >10:\n",
        "  print(\"o numero real digitado é maior que 10\")"
      ]
    },
    {
      "cell_type": "code",
      "source": [
        "'''\n",
        "Exercicio 2 Lista 2\n",
        "'''\n",
        "print(\"digite um numero real: \")\n",
        "numero_real = float(input())\n",
        "if numero_real >=10:\n",
        "  print(\"o numero é igual ou maior a 10\")\n",
        "elif numero_real <10:\n",
        "  print(\"o numero digitado é menor a 10\")"
      ],
      "metadata": {
        "colab": {
          "base_uri": "https://localhost:8080/"
        },
        "id": "8qJCkQpLyBHn",
        "outputId": "72e19cf1-e93a-4b8c-e469-a6e8980bbb11"
      },
      "execution_count": 4,
      "outputs": [
        {
          "output_type": "stream",
          "name": "stdout",
          "text": [
            "digite um numero real: \n",
            "9\n",
            "o numero digitado é menor a 10\n"
          ]
        }
      ]
    },
    {
      "cell_type": "code",
      "source": [
        "'''\n",
        "Exercicio 3 Lista 2\n",
        "'''\n",
        "print(\"digite um numero real: \")\n",
        "numero_real = float(input())\n",
        "if numero_real >10:\n",
        "  print(\"o numero digitado é maior a 10\")\n",
        "elif numero_real <10:\n",
        "  print(\"o numero digitado é menor a 10\")\n",
        "else:\n",
        "  print(\"numero digitado é igual a 10\")"
      ],
      "metadata": {
        "colab": {
          "base_uri": "https://localhost:8080/"
        },
        "id": "NYmTJU-JzDyW",
        "outputId": "fa9cb35d-30ba-4c62-96ef-b06d9304c964"
      },
      "execution_count": 14,
      "outputs": [
        {
          "output_type": "stream",
          "name": "stdout",
          "text": [
            "digite um numero real: \n",
            "10\n",
            "numero digitado é igual a 10\n"
          ]
        }
      ]
    },
    {
      "cell_type": "code",
      "source": [
        "'''\n",
        "Exercicio 4 Lista 2\n",
        "'''\n",
        "print(\"digite um numero real: \")\n",
        "numero_real = float(input())\n",
        "if numero_real <0:\n",
        "  print(\"o numero digitado é negativo\")\n",
        "elif numero_real ==0:\n",
        "  print(\"o numero é nulo\")\n",
        "else:\n",
        "  print(\"o numero é positivo\")"
      ],
      "metadata": {
        "colab": {
          "base_uri": "https://localhost:8080/"
        },
        "id": "3CW8RtoC0ugk",
        "outputId": "c38789ff-f90f-4d73-8c4f-1a608f29e552"
      },
      "execution_count": 28,
      "outputs": [
        {
          "output_type": "stream",
          "name": "stdout",
          "text": [
            "digite um numero real: \n",
            "2\n",
            "o numero é positivo\n"
          ]
        }
      ]
    },
    {
      "cell_type": "code",
      "source": [
        "'''\n",
        "Exercicio 5 Lista 2\n",
        "'''\n",
        "print(\"digite um numero inteiro: \")\n",
        "numero_inteiro = int(input())\n",
        "if numero_inteiro %3==0:\n",
        "  print(\"o numero inteiro digitado é multiplo de 3\")\n",
        "else:\n",
        "  print(\"numero nao é multiplo de 3\")"
      ],
      "metadata": {
        "colab": {
          "base_uri": "https://localhost:8080/"
        },
        "id": "BN54vxmo2svp",
        "outputId": "be303700-9fd6-448a-e19b-1828760e07a8"
      },
      "execution_count": 34,
      "outputs": [
        {
          "output_type": "stream",
          "name": "stdout",
          "text": [
            "digite um numero inteiro: \n",
            "15\n",
            "o numero inteiro digitado é multiplo de 3\n"
          ]
        }
      ]
    },
    {
      "cell_type": "code",
      "source": [
        "'''\n",
        "Exercicio 6 Lista 2\n",
        "'''\n",
        "print(\"digite um numero\")\n",
        "numero_inteiro = int(input())\n",
        "print(\"digite o numero para ser testado\")\n",
        "numero_teste = int(input())\n",
        "if numero_inteiro % numero_teste == 0:\n",
        "  print(f\"o numero {numero_inteiro} é multiplo de {numero_teste}\")\n",
        "else:\n",
        "  print(f\"o numero {numero_inteiro} nao é multiplo de {numero_teste}\")"
      ],
      "metadata": {
        "colab": {
          "base_uri": "https://localhost:8080/"
        },
        "id": "tEltkaJ93t-G",
        "outputId": "3621bee6-56f3-4050-dd38-4c9038937bce"
      },
      "execution_count": 38,
      "outputs": [
        {
          "output_type": "stream",
          "name": "stdout",
          "text": [
            "digite um numero\n",
            "21\n",
            "digite o numero para ser testado\n",
            "43\n",
            "o numero 21 nao é multiplo de 43\n"
          ]
        }
      ]
    },
    {
      "cell_type": "code",
      "source": [
        "'''\n",
        "Exercicio 7 Lista 2\n",
        "'''\n",
        "print(\"digite um numero\")\n",
        "numero_inteiro = int(input())\n",
        "if numero_inteiro %2==0:\n",
        "  print(\"o numero é par\")\n",
        "else:\n",
        "  print(\"o numero é impar\")"
      ],
      "metadata": {
        "colab": {
          "base_uri": "https://localhost:8080/"
        },
        "id": "-kUo4vnG5UrJ",
        "outputId": "5e114fd0-3031-41ac-f407-03f1a6136b03"
      },
      "execution_count": 41,
      "outputs": [
        {
          "output_type": "stream",
          "name": "stdout",
          "text": [
            "digite um numero\n",
            "13\n",
            "o numero é impar\n"
          ]
        }
      ]
    },
    {
      "cell_type": "code",
      "source": [
        "'''\n",
        "Exercicio 8 Lista 2\n",
        "'''\n",
        "print(\"digite um numero: \")\n",
        "numero_inteiro = int(input())\n",
        "if numero_inteiro >20:\n",
        "  print(f\"o numero é {numero_inteiro/2}\")\n",
        "else:\n",
        "  print(f\"o numero é  {numero_inteiro*2}\")"
      ],
      "metadata": {
        "colab": {
          "base_uri": "https://localhost:8080/"
        },
        "id": "UZJReUg659nk",
        "outputId": "f8faea5e-d41a-48f4-ceb1-dcfb33e1aa05"
      },
      "execution_count": 50,
      "outputs": [
        {
          "output_type": "stream",
          "name": "stdout",
          "text": [
            "digite um numero\n",
            "20\n",
            "o numero é  40\n"
          ]
        }
      ]
    },
    {
      "cell_type": "code",
      "source": [
        "'''\n",
        "Exercicio 9 Lista 2\n",
        "'''\n",
        "print(\"digite um numero: \")\n",
        "n1 = int(input())\n",
        "print(\"digite outro numero\")\n",
        "n2 = int(input())\n",
        "soma = n1+n2\n",
        "if soma>10:\n",
        "  print (soma*soma)\n",
        "else:\n",
        "  print (soma/2)"
      ],
      "metadata": {
        "colab": {
          "base_uri": "https://localhost:8080/"
        },
        "id": "cu6tYN_a5rPP",
        "outputId": "a49b7c5a-586c-480c-9dfb-e0fa38fd7cd3"
      },
      "execution_count": 53,
      "outputs": [
        {
          "output_type": "stream",
          "name": "stdout",
          "text": [
            "digite um numero: \n",
            "4\n",
            "digite outro numero\n",
            "4\n",
            "4.0\n"
          ]
        }
      ]
    },
    {
      "cell_type": "code",
      "source": [
        "'''\n",
        "Exercicio 10 Lista 10\n",
        "'''\n",
        "print(\"digite a nota 1: \")\n",
        "n1 = float(input())\n",
        "print(\"digite a nota 2: \")\n",
        "n2 = float (input())\n",
        "print(\"digite a nota 3: \")\n",
        "n3 = float(input())\n",
        "p1 = 2\n",
        "p2 = 3\n",
        "p3 = 5\n",
        "pesos = p1+p2+p3\n",
        "mp = ((n1*p1)+(n2*p2)+(n3*p3))/pesos\n",
        "print(\"A média do aluno foi:\", mp)\n",
        "if mp >=6.0:\n",
        "  print(\"aprovado\")\n",
        "else:\n",
        "  print(\"reprovado\")"
      ],
      "metadata": {
        "colab": {
          "base_uri": "https://localhost:8080/"
        },
        "id": "q4zZiWwDEB8t",
        "outputId": "9414d1f9-d40b-4beb-83ac-6b2ed59b9e88"
      },
      "execution_count": 56,
      "outputs": [
        {
          "output_type": "stream",
          "name": "stdout",
          "text": [
            "digite a nota 1: \n",
            "10\n",
            "digite a nota 2: \n",
            "9\n",
            "digite a nota 3: \n",
            "9\n",
            "A média do aluno foi: 9.2\n",
            "aprovado\n"
          ]
        }
      ]
    },
    {
      "cell_type": "code",
      "source": [
        "'''\n",
        "Exercicio 11 Lista 2\n",
        "'''\n",
        "print(\"digite seu nome: \")\n",
        "nome1 = str(input())\n",
        "print(\"informe seu peso: \")\n",
        "peso1 = float(input())\n",
        "print(\"digite outro nome: \")\n",
        "nome2 = str(input())\n",
        "print(\"agora novamente outro peso: \")\n",
        "peso2 = float(input())\n",
        "if peso1>peso2:\n",
        "  print(\"a pessoa mais pesada é: \", nome1)\n",
        "else:\n",
        "  print(\"a pessoa mais pesada é: \", nome2)"
      ],
      "metadata": {
        "colab": {
          "base_uri": "https://localhost:8080/"
        },
        "id": "suXxVaPnIhDd",
        "outputId": "8e066354-99a4-4772-a2f1-06f8fbd58d2f"
      },
      "execution_count": 57,
      "outputs": [
        {
          "output_type": "stream",
          "name": "stdout",
          "text": [
            "digite seu nome: \n",
            "adriano\n",
            "informe seu peso: \n",
            "158\n",
            "digite outro nome: \n",
            "lucas\n",
            "agora novamente outro peso: \n",
            "67\n",
            "a pessoa mais pesada é:  adriano\n"
          ]
        }
      ]
    },
    {
      "cell_type": "code",
      "source": [
        "'''\n",
        "exercicio 12\n",
        "'''\n",
        "print(\"digite um numero: \")\n",
        "numero = int(input())\n",
        "if numero >=20 and numero <=90:\n",
        "  print(\"o numero esta compreendido entre 20 e 90\")\n",
        "else:\n",
        "  print(\"o numero nao esta compreendido entre 20 e 90\")"
      ],
      "metadata": {
        "colab": {
          "base_uri": "https://localhost:8080/"
        },
        "id": "DT6GUnymKe-7",
        "outputId": "35b2b36b-7a12-487d-f6d9-5d7b5b6f847e"
      },
      "execution_count": 61,
      "outputs": [
        {
          "output_type": "stream",
          "name": "stdout",
          "text": [
            "digite um numero: \n",
            "23\n",
            "o numero esta compreendido entre 20 e 90\n"
          ]
        }
      ]
    }
  ]
}