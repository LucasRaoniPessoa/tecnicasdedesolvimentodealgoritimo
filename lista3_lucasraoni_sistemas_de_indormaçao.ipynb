{
  "nbformat": 4,
  "nbformat_minor": 0,
  "metadata": {
    "colab": {
      "provenance": [],
      "authorship_tag": "ABX9TyMD8OBSBQ3MllD1Ob4U5kPf",
      "include_colab_link": true
    },
    "kernelspec": {
      "name": "python3",
      "display_name": "Python 3"
    },
    "language_info": {
      "name": "python"
    }
  },
  "cells": [
    {
      "cell_type": "markdown",
      "metadata": {
        "id": "view-in-github",
        "colab_type": "text"
      },
      "source": [
        "<a href=\"https://colab.research.google.com/github/LucasRaoniPessoa/tecnicasdedesolvimentodealgoritimo/blob/main/lista3_lucasraoni_sistemas_de_indorma%C3%A7ao.ipynb\" target=\"_parent\"><img src=\"https://colab.research.google.com/assets/colab-badge.svg\" alt=\"Open In Colab\"/></a>"
      ]
    },
    {
      "cell_type": "code",
      "execution_count": null,
      "metadata": {
        "id": "fKdmFozOZ7rT"
      },
      "outputs": [],
      "source": [
        "'''1. Elabore um algoritmo que imprima na tela lado a lado o texto \"Hello World!\" 10 vezes.'''\n",
        "for count in range(0,10):\n",
        "  print(\"Hello World!\",end=\" \")"
      ]
    },
    {
      "cell_type": "code",
      "source": [
        "'''2. Elabore um algoritmo que imprima na tela o texto \"Hello World!\" 10 vezes, um por linha.'''\n",
        "for count in range(0,10):\n",
        "  print(\"Hello World!\")"
      ],
      "metadata": {
        "id": "DUI6knriaFqG"
      },
      "execution_count": null,
      "outputs": []
    },
    {
      "cell_type": "code",
      "source": [
        "'''3. Elabore um algoritmo que imprima todos os números inteiros de 1 até 100 inclusive.'''\n",
        "for count in range(1,101):\n",
        "  print(count)"
      ],
      "metadata": {
        "id": "PUIskrn1aZtz"
      },
      "execution_count": null,
      "outputs": []
    },
    {
      "cell_type": "code",
      "source": [
        "'''4. Elabore um algoritmo que imprima 100 vezes o texto \"1- Hello World!\" com o número.'''\n",
        "for count in range(1,100):\n",
        "  print(f\"{count}- Hello World\")"
      ],
      "metadata": {
        "id": "GEHmr9ldacPb"
      },
      "execution_count": null,
      "outputs": []
    },
    {
      "cell_type": "code",
      "source": [
        "'''5. Elabore um algoritmo que imprima todos os números decrescentes de 100 até 0 inclusive.'''\n",
        "for count in range(100,-1,-1):\n",
        "  print(count)"
      ],
      "metadata": {
        "id": "EtR9KGUtafzT"
      },
      "execution_count": null,
      "outputs": []
    },
    {
      "cell_type": "code",
      "source": [
        "'''6. Elabore um algoritmo que imprima todos os números pares inteiros de 1 até 1000.'''\n",
        "for count in range(1,1001):\n",
        "  if count%2==0:\n",
        "    print(count)"
      ],
      "metadata": {
        "id": "xEuAkcc7alP7"
      },
      "execution_count": null,
      "outputs": []
    },
    {
      "cell_type": "code",
      "source": [
        "'''7. Elabore um algoritmo que imprima todos os números ímpares de 1000 até 0.'''\n",
        "for count in range(1000,-1,-1):\n",
        "  if count%2==1:\n",
        "    print(count)"
      ],
      "metadata": {
        "id": "tH-cbcXPaowq"
      },
      "execution_count": null,
      "outputs": []
    },
    {
      "cell_type": "code",
      "source": [
        "'''8. Elabore um algoritmo que imprima a soma dos 100 primeiros números inteiros positivos.'''\n",
        "soma=0\n",
        "for count in range(0,101):\n",
        "  soma+=count\n",
        "print(soma)"
      ],
      "metadata": {
        "id": "ZOC3f3hWapSC"
      },
      "execution_count": null,
      "outputs": []
    },
    {
      "cell_type": "code",
      "source": [
        "'''9. Elabore um algoritmo que solicite ao usuário um número inteiro que indicará a quantidade\n",
        "de vezes que o texto \"Hello World!\" será impresso na tela, um em cada linha.'''\n",
        "count=int(input(\"Digite a quantidade de vezes que o texto 'Hello World' será impresso: \"))\n",
        "for inicio in range(0,count):\n",
        "  print(\"Hello World\")"
      ],
      "metadata": {
        "id": "C9JaB0nzatNa"
      },
      "execution_count": null,
      "outputs": []
    },
    {
      "cell_type": "code",
      "source": [
        "'''10. Elabore um algoritmo que solicite ao usuário uma palavra e um número inteiro que\n",
        "indicará a quantidade de vezes que a palavra digitada será impressa na tela, um em cada\n",
        "linha.'''\n",
        "palavra=input(\"Digite uma palavra: \")\n",
        "count=int(input(\"Digite a quantidade de vezes que a palavra será repitida: \"))\n",
        "for inicio in range(0,count):\n",
        "  print(palavra)"
      ],
      "metadata": {
        "id": "ycBjhgC6aw3a"
      },
      "execution_count": null,
      "outputs": []
    },
    {
      "cell_type": "code",
      "source": [
        "'''11. Elabore um algoritmo que leia um número de entrada que indicará a quantidade de\n",
        "números a serem lidos. Em seguida, leia n números (conforme o valor informado\n",
        "anteriormente) e imprima a soma e a média aritmética dos números informados.'''\n",
        "countNum=int(input(\"Digite a quantidade de números a serem lidos: \"))\n",
        "soma=0\n",
        "for inicio in range(0,countNum):\n",
        "  print(\"Informe o \",inicio+1,\". número: \")\n",
        "  num=int(input())\n",
        "  soma+=num\n",
        "\n",
        "media=soma/countNum\n",
        "\n",
        "print(f\"A soma dos números é: {soma}\")\n",
        "print(f\"A média aritmética dos números é: {media}\")\n"
      ],
      "metadata": {
        "id": "99sfTfB4azeC"
      },
      "execution_count": null,
      "outputs": []
    },
    {
      "cell_type": "code",
      "source": [
        "'''12. Elabore um algoritmo que leia um número de entrada que indicará a quantidade de\n",
        "registros a serem lidos (N). Em seguida algoritmo deve solicitar o nome e idade de N\n",
        "pessoas e ao final apresentar o nome da pessoa mais velha.'''\n",
        "numRegistros=int(input(\"Digite a quantidade de registros a serem lidos: \"))\n",
        "idadeV=0\n",
        "nomeV=\"\"\n",
        "\n",
        "for inicio in range(0,numRegistros):\n",
        "  print(\"Informe o nome da \",inicio+1,\". pessoa: \")\n",
        "  nome=input()\n",
        "  print(\"informe a idade da \",inicio+1,\". pessoa: \")\n",
        "  idade=int(input())\n",
        "  if(idade>idadeV):\n",
        "    idadeV=idade\n",
        "    nomeV=nome\n",
        "if(idadeV>0):\n",
        "  print(f\"A pessoa mais velha é {nomeV}\")\n",
        "print(\"Programa Finalizado.\")"
      ],
      "metadata": {
        "id": "nudbAonEa1wz"
      },
      "execution_count": null,
      "outputs": []
    },
    {
      "cell_type": "code",
      "source": [
        "'''13. Elabore um algoritmo que leia um número de entrada que indicará a quantidade de\n",
        "registros a serem lidos (N). Em seguida algoritmo deve solicitar o sexo (M/F) e idade de N\n",
        "pessoas e ao final apresentar a média de idade de ambos os gêneros catalogados.'''\n",
        "somaM=0\n",
        "somaF=0\n",
        "numHomens=0\n",
        "numMulheres=0\n",
        "count=int(input(\"Digite a quantidade de registros a serem lidos: \"))\n",
        "for inicio in range(0,count):\n",
        "  print(\"Informe o sexo da \",inicio+1,\". pessoa: [M/F]\")\n",
        "  sexo=input()\n",
        "  print(\"Informa a idade da \",inicio+1,\". pessoa: \")\n",
        "  idade=int(input())\n",
        "  if sexo.upper()=='M':\n",
        "    somaM+=idade\n",
        "    numHomens+=1\n",
        "  elif sexo.upper()=='F':\n",
        "    somaF+=idade\n",
        "    numMulheres+=1\n",
        "\n",
        "mediaM=somaM/numHomens\n",
        "mediaF=somaF/numMulheres\n",
        "\n",
        "print(f\"A média de idade dos homens é: {mediaM}\")\n",
        "print(f\"A média de idade das mulheres é: {mediaF}\")"
      ],
      "metadata": {
        "id": "NhgMHyWna7pB"
      },
      "execution_count": null,
      "outputs": []
    },
    {
      "cell_type": "code",
      "source": [
        "'''14. Elabore um algoritmo que solicite ao usuário 10 números reais e ao final apresente o\n",
        "maior e o menor deles.'''\n",
        "num=float(input(\"Informe o 1. número: \"))\n",
        "maior=menor=num\n",
        "for count in range(0,10):\n",
        "  print(\"Informe o \",count+2,\". número: \")\n",
        "  num=float(input())\n",
        "  if(num>maior):\n",
        "    maior=num\n",
        "  elif(num<menor):\n",
        "    menor=num\n",
        "\n",
        "print(f\"O maior número é: {maior}\")\n",
        "print(f\"O menor número é: {menor}\")"
      ],
      "metadata": {
        "id": "cCZKQrQtbAH5"
      },
      "execution_count": null,
      "outputs": []
    },
    {
      "cell_type": "code",
      "source": [
        "'''15. Elabore um algoritmo que solicite N números reais e quando o usuário informar o valor\n",
        "nulo 0 (zero) o programa ordene e mostre todos os números informados de forma crescente.'''\n",
        "numeros=[]\n",
        "num=float(input(\"Digite o 1. número: (O comando de parada é o número 0)\"))\n",
        "numeros.append(num)\n",
        "if numeros[0]==0:\n",
        "  print(\"Programa Finalizado\")\n",
        "\n",
        "inicio=1\n",
        "while True:\n",
        "  print(\"Digite o \",inicio+1,\". número: (O comando de parada é o número 0)\")\n",
        "  num=float(input())\n",
        "  numeros.append(num)\n",
        "  if numeros[inicio]==0:\n",
        "    break\n",
        "  inicio+=1\n",
        "\n",
        "numeros.sort()\n",
        "print(\"Os números em ordem crescente são: \")\n",
        "for x in numeros:\n",
        "  print(x)"
      ],
      "metadata": {
        "id": "eM0zQ0nebA8p"
      },
      "execution_count": null,
      "outputs": []
    },
    {
      "cell_type": "code",
      "source": [
        "'''16. Escreva um programa que vá solicitando as idades dos alunos da sala até que todos\n",
        "sejam informados (perguntar ao usuário se deseja informar a idade do próximo aluno). Ao\n",
        "final apresentar a idade do mais novo, a idade do mais velho, Quantos alunos têm mais de\n",
        "18 anos, quantos alunos têm até 18 anos, a média aritmética e a mediana.'''\n",
        "maior18=menor18=maisVelho=maisNovo=media=0\n",
        "mediana=[]\n",
        "\n",
        "while True:\n",
        "  idade=int(input(\"Informe a idade do aluno: \"))\n",
        "  maior18+=1 if idade>=18 else 0\n",
        "  menor18+=1 if idade<18 and idade>0 else 0\n",
        "  if idade>0:\n",
        "    media+=idade\n",
        "    mediana.append(idade)\n",
        "  else:\n",
        "    print(\"Idade Inválida, utilize números inteiros positivos\")\n",
        "\n",
        "  resN=[\"NAO\",\"NÃO\",\"N\"]\n",
        "  teste=input(\"Deseja informa a idade de outro aluno? [S/N]\")\n",
        "  if teste.upper() in resN:\n",
        "    break\n",
        "\n",
        "maisVelho= max(mediana)\n",
        "maisNovo= min(mediana)\n",
        "mediaIdade=media/len(mediana)\n",
        "mediana.sort()\n",
        "n=len(mediana)\n",
        "\n",
        "if n%2==1:\n",
        "  valorMediana=mediana[n//2]\n",
        "elif n%2==0:\n",
        "  valorMediana=(mediana[n//2-1]+mediana[n//2])/2\n",
        "\n",
        "print(f\"O aluno mais novo tem {maisNovo} anos\")\n",
        "print(f\"O aluno mais velho tem {maisVelho} anos\")\n",
        "print(f\"Há {maior18} alunos com mais de 18 anos\")\n",
        "print(f\"Há {menor18} alunos com menos de 18 anos\")\n",
        "print(f\"A média de idade dos alunos é: {mediaIdade}\")\n",
        "print((f\"A mediana de idade dos alunos é: {valorMediana}\"))\n",
        "\n"
      ],
      "metadata": {
        "id": "GwZf39LEbDOZ"
      },
      "execution_count": null,
      "outputs": []
    },
    {
      "cell_type": "code",
      "source": [],
      "metadata": {
        "id": "d-sBtJYJbGNw"
      },
      "execution_count": null,
      "outputs": []
    }
  ]
}