{
  "nbformat": 4,
  "nbformat_minor": 0,
  "metadata": {
    "colab": {
      "provenance": [],
      "authorship_tag": "ABX9TyNGc6+y6RNKp2ivwtgyisXQ",
      "include_colab_link": true
    },
    "kernelspec": {
      "name": "python3",
      "display_name": "Python 3"
    },
    "language_info": {
      "name": "python"
    }
  },
  "cells": [
    {
      "cell_type": "markdown",
      "metadata": {
        "id": "view-in-github",
        "colab_type": "text"
      },
      "source": [
        "<a href=\"https://colab.research.google.com/github/LucasRaoniPessoa/tecnicasdedesolvimentodealgoritimo/blob/main/ListaDupla_python_LucasRaoni_sistemas_de_informa%C3%A7ao.ipynb\" target=\"_parent\"><img src=\"https://colab.research.google.com/assets/colab-badge.svg\" alt=\"Open In Colab\"/></a>"
      ]
    },
    {
      "cell_type": "markdown",
      "source": [],
      "metadata": {
        "id": "CSWIt0rKSFw0"
      }
    },
    {
      "cell_type": "code",
      "source": [
        "lista1 = [10, 20, 30, 40]\n",
        "lista2 = [\"programação\", \"IFB\", \"python\"]\n",
        "lista3 = [\"oi\", 2.0, 5, [10, 20]]\n",
        "print(lista1)\n",
        "print(lista2)\n",
        "print(lista3)"
      ],
      "metadata": {
        "colab": {
          "base_uri": "https://localhost:8080/"
        },
        "id": "tJTx2t8QUt6l",
        "outputId": "b746a056-65ea-47bd-fb99-2001b8f3fd7b"
      },
      "execution_count": null,
      "outputs": [
        {
          "output_type": "stream",
          "name": "stdout",
          "text": [
            "[10, 20, 30, 40]\n",
            "['programação', 'IFB', 'python']\n",
            "['oi', 2.0, 5, [10, 20]]\n"
          ]
        }
      ]
    },
    {
      "cell_type": "code",
      "source": [
        "nota1 = float(input(\"Entre com a nota 1: \"))\n",
        "nota2 = float(input(\"Entre com a nota 2: \"))\n",
        "nota3 = float(input(\"Entre com a nota 3: \"))"
      ],
      "metadata": {
        "id": "i14qlwujVrY_"
      },
      "execution_count": null,
      "outputs": []
    },
    {
      "cell_type": "code",
      "source": [
        "notas = [8.0, 5.5, 9.3, 7.6, 3.1]\n",
        "print(notas)"
      ],
      "metadata": {
        "colab": {
          "base_uri": "https://localhost:8080/"
        },
        "id": "Cr1AmkxHcDtE",
        "outputId": "c221d9dd-cd9b-46eb-eb4b-242ed6502fb4"
      },
      "execution_count": null,
      "outputs": [
        {
          "output_type": "stream",
          "name": "stdout",
          "text": [
            "[8.0, 5.5, 9.3, 7.6, 3.1]\n"
          ]
        }
      ]
    },
    {
      "cell_type": "markdown",
      "source": [
        "##Aplicaçoes com Listas, Tuplas e Dicionarios!"
      ],
      "metadata": {
        "id": "lhQa0ksKWsC5"
      }
    },
    {
      "cell_type": "code",
      "source": [
        "alunos_db = [\n",
        "    {\"matricula\": \"2023001\", \"nome\": \"Lucas raoni\", \"curso\": \"sistemas de informaçao\"},\n",
        "    {\"matricula\": \"2023002\", \"nome\": \"Ana Castela\", \"curso\": \"Engenharia de software\"},\n",
        "    {\"matricula\": \"2023003\", \"nome\": \"Gustavo Pereira\", \"curso\": \"Analise e desenvolvimento de sistemas\"},\n",
        "]\n",
        "print(\"1. Sistema simplificado de cadastro de aluno\")\n",
        "print(\"-\" * 40)\n",
        "\n",
        "#1. Adicionar novo aluno (create)\n",
        "print(\"-> Adicionado novo aluno...\")\n",
        "novo_aluno = {\"matricula\": \"2023004\", \"nome\": \"Joao Gustavo\", \"curso\": \"Sistema de informaçao\"}\n",
        "alunos_db.append(novo_aluno) #adiciona o dicionario (novo_aluno) ao\n",
        "print(f\"Aluno {novo_aluno['nome']} adicionado com sucesso.\")\n",
        "\n",
        "#2 Buscar aluno por matricula (READ)\n",
        "matricula_busca = \"2023002\"\n",
        "aluno_encontrado = next((aluno for aluno in alunos_db if aluno[\"matricula\"] == matricula_busca), None)\n",
        "\n",
        "if aluno_encontrado:\n",
        "  print(f\"\\nAluno com matricula (Matricula: {matricula_busca}):\")\n",
        "  print(f\"Nome: {aluno_encontrado['nome']}, curso: {aluno_encontrado['curso']}\")\n",
        "else:\n",
        "  print(f\"\\nAluno com matricula {matricula_busca} nao encontrado\")\n",
        "\n",
        "# 3. Atualizar curso do aluno (UPDATE)\n",
        "matricula_update = \"2023003\"\n",
        "for aluno in alunos_db:\n",
        "    if aluno[\"matricula\"] == matricula_update:\n",
        "      aluno[\"curso\"] = \"segurança da informaçao\"\n",
        "      print(f\"\\nCurso do aluno {aluno['nome']} atualizado para: {aluno['curso']}\")\n",
        "      break\n",
        "print(\"-\" * 40)\n",
        "\n",
        "# 4. Excluir aluno (DELETE)\n",
        "matricula_delete = \"2023001\"\n",
        "alunos_db = [aluno for aluno in alunos_db if aluno[\"matricula\"] != matricula_delete]\n",
        "print(f\"\\nAluno com matricula {matricula_delete} excluido com sucesso.\")\n",
        "\n",
        "print(\"\\nAlunos restantes:\")\n",
        "for aluno in alunos_db:\n",
        "    print(f\"Matricula: {aluno['matricula']}, Nome: {aluno['nome']}, Curso: {aluno['curso']}\")"
      ],
      "metadata": {
        "colab": {
          "base_uri": "https://localhost:8080/"
        },
        "id": "pMOg8tnAWoJh",
        "outputId": "8e119abd-f11d-4a4f-d390-f36b9274fe02"
      },
      "execution_count": 7,
      "outputs": [
        {
          "output_type": "stream",
          "name": "stdout",
          "text": [
            "1. Sistema simplificado de cadastro de aluno\n",
            "----------------------------------------\n",
            "-> Adicionado novo aluno...\n",
            "Aluno Joao Gustavo adicionado com sucesso.\n",
            "\n",
            "Aluno com matricula (Matricula: 2023002):\n",
            "Nome: Ana Castela, curso: Engenharia de software\n",
            "\n",
            "Curso do aluno Gustavo Pereira atualizado para: segurança da informaçao\n",
            "----------------------------------------\n",
            "\n",
            "Aluno com matricula 2023001 excluido com sucesso.\n",
            "\n",
            "Alunos restantes:\n",
            "Matricula: 2023002, Nome: Ana Castela, Curso: Engenharia de software\n",
            "Matricula: 2023003, Nome: Gustavo Pereira, Curso: segurança da informaçao\n",
            "Matricula: 2023004, Nome: Joao Gustavo, Curso: Sistema de informaçao\n"
          ]
        }
      ]
    },
    {
      "cell_type": "code",
      "source": [],
      "metadata": {
        "id": "aXLKc3LImU8_"
      },
      "execution_count": null,
      "outputs": []
    },
    {
      "cell_type": "code",
      "metadata": {
        "colab": {
          "base_uri": "https://localhost:8080/"
        },
        "id": "9ed615ee",
        "outputId": "128f1dff-f1f6-487a-e810-d409640297b0"
      },
      "source": [
        "import random\n",
        "\n",
        "# This is a simplified example based on typical World Cup draws.\n",
        "# The actual pots for the 2026 World Cup will depend on FIFA rankings closer to the event.\n",
        "\n",
        "pot_1 = [\"Brazil\", \"Argentina\", \"France\", \"Germany\", \"Spain\", \"Portugal\", \"Belgium\", \"England\"]\n",
        "pot_2 = [\"Netherlands\", \"Croatia\", \"Italy\", \"Mexico\", \"USA\", \"Colombia\", \"Uruguay\", \"Switzerland\"]\n",
        "pot_3 = [\"Senegal\", \"Japan\", \"Iran\", \"Morocco\", \"South Korea\", \"Poland\", \"Serbia\", \"Tunisia\"]\n",
        "pot_4 = [\"Canada\", \"Australia\", \"Ecuador\", \"Cameroon\", \"Ghana\", \"Saudi Arabia\", \"Qatar\", \"Playoff Winner\"]\n",
        "\n",
        "# Combine all pots into a list of lists\n",
        "all_pots = [pot_1, pot_2, pot_3, pot_4]\n",
        "\n",
        "# Define the number of groups (assuming 8 groups for this example)\n",
        "num_groups = 8\n",
        "groups = {f\"Group {chr(65 + i)}\": [] for i in range(num_groups)}\n",
        "\n",
        "print(\"Defined pots and initialized empty groups.\")"
      ],
      "execution_count": 10,
      "outputs": [
        {
          "output_type": "stream",
          "name": "stdout",
          "text": [
            "Defined pots and initialized empty groups.\n"
          ]
        }
      ]
    }
  ]
}